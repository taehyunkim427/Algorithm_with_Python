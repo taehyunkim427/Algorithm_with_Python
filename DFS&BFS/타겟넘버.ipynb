{
 "cells": [
  {
   "cell_type": "code",
   "execution_count": null,
   "metadata": {},
   "outputs": [],
   "source": [
    "numbers\ttarget\treturn\n",
    "[1, 1, 1, 1, 1]\t3\t5"
   ]
  },
  {
   "cell_type": "code",
   "execution_count": 14,
   "metadata": {},
   "outputs": [],
   "source": [
    "n = [1,1,1,1,1] \n",
    "t = 3"
   ]
  },
  {
   "cell_type": "code",
   "execution_count": 15,
   "metadata": {},
   "outputs": [],
   "source": [
    "from collections import deque"
   ]
  },
  {
   "cell_type": "code",
   "execution_count": 16,
   "metadata": {},
   "outputs": [],
   "source": [
    "dq = deque()\n",
    "answer = 0\n",
    "idx = 1\n",
    "dq.append(n[0])\n",
    "dq.append(-n[0])\n",
    "while dq:\n",
    "    for i in range(2**idx):\n",
    "        now = dq.popleft()\n",
    "        if idx < len(n):\n",
    "            dq.append(now+n[idx])\n",
    "            dq.append(now-n[idx])\n",
    "        elif now == t:\n",
    "            answer += 1\n",
    "    idx += 1\n",
    "answer"
   ]
  },
  {
   "cell_type": "code",
   "execution_count": null,
   "metadata": {},
   "outputs": [],
   "source": []
  }
 ],
 "metadata": {
  "kernelspec": {
   "display_name": "Python 3",
   "language": "python",
   "name": "python3"
  },
  "language_info": {
   "codemirror_mode": {
    "name": "ipython",
    "version": 3
   },
   "file_extension": ".py",
   "mimetype": "text/x-python",
   "name": "python",
   "nbconvert_exporter": "python",
   "pygments_lexer": "ipython3",
   "version": "3.7.3"
  }
 },
 "nbformat": 4,
 "nbformat_minor": 2
}

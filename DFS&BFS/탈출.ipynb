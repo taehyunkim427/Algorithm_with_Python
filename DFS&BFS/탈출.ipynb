{
 "cells": [
  {
   "cell_type": "markdown",
   "metadata": {},
   "source": [
    "3 3 <br>\n",
    "D.*<br>\n",
    "...<br>\n",
    ".S."
   ]
  },
  {
   "cell_type": "code",
   "execution_count": 30,
   "metadata": {},
   "outputs": [
    {
     "name": "stdout",
     "output_type": "stream",
     "text": [
      "5 4\n",
      ".D.*\n",
      "....\n",
      "..X.\n",
      "S.*.\n",
      "....\n",
      "4\n"
     ]
    },
    {
     "ename": "SystemExit",
     "evalue": "",
     "output_type": "error",
     "traceback": [
      "An exception has occurred, use %tb to see the full traceback.\n",
      "\u001b[1;31mSystemExit\u001b[0m\n"
     ]
    }
   ],
   "source": [
    "import sys\n",
    "from collections import deque\n",
    "from copy import deepcopy\n",
    "\n",
    "r, c = list(map(int, input().split()))\n",
    "forest = []\n",
    "for _ in range(r):\n",
    "    forest.append(list(input()))\n",
    "visited = [[False for _ in range(c)] for _ in range(r)]\n",
    "after_move = deque()\n",
    "after_flood = deque()\n",
    "time = 0\n",
    "after_flood.append((forest,time))\n",
    "\n",
    "while after_flood:\n",
    "    now_forest, now_time = after_flood.popleft()\n",
    "    now_time += 1\n",
    "    \n",
    "    hi = False\n",
    "    for y in range(r):\n",
    "        if hi == True:\n",
    "            break\n",
    "        for x in range(c):\n",
    "            if now_forest[y][x] == \"S\":\n",
    "                hi = True\n",
    "                visited[y][x] = True\n",
    "                for dx, dy in (1, 0), (0, -1), (-1, 0), (0, 1):\n",
    "                    nx = x + dx\n",
    "                    ny = y + dy\n",
    "                    if nx >= 0 and nx < c and ny >=0 and ny < r:\n",
    "                        if not visited[ny][nx]:\n",
    "                            if now_forest[ny][nx] == \"D\":\n",
    "                                print(now_time)\n",
    "                                sys.exit()\n",
    "                            elif now_forest[ny][nx] == \".\":\n",
    "                                now_forest[ny][nx] = \"S\"\n",
    "                                now_forest[y][x] = \".\"\n",
    "                                cforest = deepcopy(now_forest)\n",
    "                                after_move.append((cforest, now_time))\n",
    "                                now_forest[ny][nx] = \".\"\n",
    "                                now_forest[y][x] = \"S\"\n",
    "                break\n",
    "    while after_move:\n",
    "        dead = False\n",
    "        now_forest, now_time = after_move.popleft()\n",
    "        for y in range(r):\n",
    "            for x in range(c):\n",
    "                if now_forest[y][x] == \"*\":\n",
    "                    for dx, dy in (1, 0), (0, -1), (-1, 0), (0, 1):\n",
    "                        nx = x + dx\n",
    "                        ny = y + dy\n",
    "                        if nx >= 0 and nx < c and ny >=0 and ny < r:\n",
    "                            if now_forest[ny][nx] == \"S\":\n",
    "                                dead = True\n",
    "                            elif now_forest[ny][nx] == \".\":\n",
    "                                now_forest[ny][nx] = \"W\"\n",
    "        if dead == False:\n",
    "            for y in range(r):\n",
    "                for x in range(c):\n",
    "                    if now_forest[y][x] == \"W\":\n",
    "                        now_forest[y][x] = \"*\"\n",
    "            after_flood.append((now_forest, now_time))\n",
    "        \n",
    "print(\"KAKTUS\")"
   ]
  },
  {
   "cell_type": "markdown",
   "metadata": {},
   "source": [
    "### 1. S를 이동\n",
    "visited를 이용해서 갔던 곳은 다시 안감\n",
    "D를 만날 경우 종료\n",
    "\n",
    "\n",
    "### 2. *를 퍼뜨림\n",
    "S를 만날 경우 큐에 넣지 않음\n",
    "\n",
    "\n",
    "\n"
   ]
  },
  {
   "cell_type": "markdown",
   "metadata": {},
   "source": [
    "### next_forest"
   ]
  },
  {
   "cell_type": "code",
   "execution_count": null,
   "metadata": {},
   "outputs": [],
   "source": [
    "for dx, dy in (1, 0), (0, -1), (-1, 0), (0, 1):\n",
    "    print(dx,dy)"
   ]
  },
  {
   "cell_type": "code",
   "execution_count": null,
   "metadata": {},
   "outputs": [],
   "source": [
    "def pr(x,y):\n",
    "    print(dx,dy)"
   ]
  },
  {
   "cell_type": "code",
   "execution_count": null,
   "metadata": {},
   "outputs": [],
   "source": [
    "pr(1,1)"
   ]
  },
  {
   "cell_type": "code",
   "execution_count": null,
   "metadata": {},
   "outputs": [],
   "source": []
  }
 ],
 "metadata": {
  "kernelspec": {
   "display_name": "Python 3",
   "language": "python",
   "name": "python3"
  },
  "language_info": {
   "codemirror_mode": {
    "name": "ipython",
    "version": 3
   },
   "file_extension": ".py",
   "mimetype": "text/x-python",
   "name": "python",
   "nbconvert_exporter": "python",
   "pygments_lexer": "ipython3",
   "version": "3.7.3"
  }
 },
 "nbformat": 4,
 "nbformat_minor": 2
}

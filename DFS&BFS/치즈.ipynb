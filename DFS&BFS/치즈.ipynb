{
 "cells": [
  {
   "cell_type": "markdown",
   "metadata": {},
   "source": [
    "13 12 <br>\n",
    "0 0 0 0 0 0 0 0 0 0 0 0<br>\n",
    "0 0 0 0 0 0 0 0 0 0 0 0<br>\n",
    "0 0 0 0 0 0 0 1 1 0 0 0<br>\n",
    "0 1 1 1 0 0 0 1 1 0 0 0<br>\n",
    "0 1 1 1 1 1 1 0 0 0 0 0<br>\n",
    "0 1 1 1 1 1 0 1 1 0 0 0<br>\n",
    "0 1 1 1 1 0 0 1 1 0 0 0<br>\n",
    "0 0 1 1 0 0 0 1 1 0 0 0<br>\n",
    "0 0 1 1 1 1 1 1 1 0 0 0<br>\n",
    "0 0 1 1 1 1 1 1 1 0 0 0<br>\n",
    "0 0 1 1 1 1 1 1 1 0 0 0<br>\n",
    "0 0 1 1 1 1 1 1 1 0 0 0<br>\n",
    "0 0 0 0 0 0 0 0 0 0 0 0<br>"
   ]
  },
  {
   "cell_type": "code",
   "execution_count": 1,
   "metadata": {},
   "outputs": [
    {
     "name": "stdout",
     "output_type": "stream",
     "text": [
      "1\n"
     ]
    },
    {
     "ename": "ValueError",
     "evalue": "not enough values to unpack (expected 2, got 1)",
     "output_type": "error",
     "traceback": [
      "\u001b[1;31m---------------------------------------------------------------------------\u001b[0m",
      "\u001b[1;31mValueError\u001b[0m                                Traceback (most recent call last)",
      "\u001b[1;32m<ipython-input-1-bb9484f7c92f>\u001b[0m in \u001b[0;36m<module>\u001b[1;34m\u001b[0m\n\u001b[0;32m      1\u001b[0m \u001b[1;32mimport\u001b[0m \u001b[0msys\u001b[0m\u001b[1;33m\u001b[0m\u001b[1;33m\u001b[0m\u001b[0m\n\u001b[0;32m      2\u001b[0m \u001b[0msys\u001b[0m\u001b[1;33m.\u001b[0m\u001b[0msetrecursionlimit\u001b[0m\u001b[1;33m(\u001b[0m\u001b[1;36m100000\u001b[0m\u001b[1;33m)\u001b[0m\u001b[1;33m\u001b[0m\u001b[1;33m\u001b[0m\u001b[0m\n\u001b[1;32m----> 3\u001b[1;33m \u001b[0mr\u001b[0m\u001b[1;33m,\u001b[0m \u001b[0mc\u001b[0m \u001b[1;33m=\u001b[0m \u001b[0mlist\u001b[0m\u001b[1;33m(\u001b[0m\u001b[0mmap\u001b[0m\u001b[1;33m(\u001b[0m\u001b[0mint\u001b[0m\u001b[1;33m,\u001b[0m \u001b[0minput\u001b[0m\u001b[1;33m(\u001b[0m\u001b[1;33m)\u001b[0m\u001b[1;33m.\u001b[0m\u001b[0msplit\u001b[0m\u001b[1;33m(\u001b[0m\u001b[1;33m)\u001b[0m\u001b[1;33m)\u001b[0m\u001b[1;33m)\u001b[0m\u001b[1;33m\u001b[0m\u001b[1;33m\u001b[0m\u001b[0m\n\u001b[0m\u001b[0;32m      4\u001b[0m \u001b[0mcheese\u001b[0m \u001b[1;33m=\u001b[0m \u001b[1;33m[\u001b[0m\u001b[1;33m]\u001b[0m\u001b[1;33m\u001b[0m\u001b[1;33m\u001b[0m\u001b[0m\n\u001b[0;32m      5\u001b[0m \u001b[1;32mfor\u001b[0m \u001b[0m_\u001b[0m \u001b[1;32min\u001b[0m \u001b[0mrange\u001b[0m\u001b[1;33m(\u001b[0m\u001b[0mr\u001b[0m\u001b[1;33m)\u001b[0m\u001b[1;33m:\u001b[0m\u001b[1;33m\u001b[0m\u001b[1;33m\u001b[0m\u001b[0m\n",
      "\u001b[1;31mValueError\u001b[0m: not enough values to unpack (expected 2, got 1)"
     ]
    }
   ],
   "source": [
    "import sys\n",
    "sys.setrecursionlimit(100000)\n",
    "r, c = list(map(int, input().split()))\n",
    "cheese = []\n",
    "for _ in range(r):\n",
    "    cheese.append(list(map(int, input().split())))\n",
    "\n",
    "def rot(arr, y, x):\n",
    "    visited[y][x] = 1\n",
    "    ny = y + 1\n",
    "    if ny < r and ny >= 0 and visited[ny][x] == 0:\n",
    "        if arr[ny][x] == 0:\n",
    "            rot(arr, ny, x)\n",
    "        elif arr[ny][x] == 1:\n",
    "            arr[ny][x] = 2\n",
    "    ny = y - 1\n",
    "    if ny >= 0 and ny < r and visited[ny][x] == 0:\n",
    "        if arr[ny][x] == 0:\n",
    "            rot(arr, ny, x)\n",
    "        elif arr[ny][x] == 1:\n",
    "            arr[ny][x] = 2\n",
    "    nx = x + 1\n",
    "    if 0 <= nx < c and nx >= 0 and visited[y][nx] == 0:\n",
    "        if arr[y][nx] == 0:\n",
    "            rot(arr, y, nx)\n",
    "        elif arr[y][nx] == 1:\n",
    "            arr[y][nx] = 2\n",
    "    nx = x - 1\n",
    "    if nx >= 0 and nx < c and visited[y][nx] == 0:\n",
    "        if arr[y][nx] == 0:\n",
    "            rot(arr, y, nx)\n",
    "        elif arr[y][nx] == 1:\n",
    "            arr[y][nx] = 2\n",
    "    return arr\n",
    "\n",
    "def rotten(t):\n",
    "    for i in range(r):\n",
    "        for j in range(c):\n",
    "            if t[i][j] == 2:\n",
    "                t[i][j] = 0\n",
    "    return t\n",
    "\n",
    "def sum_list(k): \n",
    "    s = 0\n",
    "    for i in range(r):\n",
    "        s += sum(k[i])\n",
    "    return s\n",
    "\n",
    "time = 0\n",
    "ans = 0\n",
    "\n",
    "while(sum_list(cheese) > 0):\n",
    "    ans = sum_list(cheese)\n",
    "    time += 1\n",
    "    visited = [[0 for i in range(c)] for _ in range(r)]\n",
    "    cheese = rot(cheese, 0, 0)\n",
    "    cheese = rotten(cheese)\n",
    "    \n",
    "print(time, ans)"
   ]
  },
  {
   "cell_type": "markdown",
   "metadata": {},
   "source": [
    "# "
   ]
  }
 ],
 "metadata": {
  "kernelspec": {
   "display_name": "Python 3",
   "language": "python",
   "name": "python3"
  },
  "language_info": {
   "codemirror_mode": {
    "name": "ipython",
    "version": 3
   },
   "file_extension": ".py",
   "mimetype": "text/x-python",
   "name": "python",
   "nbconvert_exporter": "python",
   "pygments_lexer": "ipython3",
   "version": "3.7.3"
  }
 },
 "nbformat": 4,
 "nbformat_minor": 2
}

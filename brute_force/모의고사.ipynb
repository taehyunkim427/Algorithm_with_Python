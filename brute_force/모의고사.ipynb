{
 "cells": [
  {
   "cell_type": "code",
   "execution_count": null,
   "metadata": {},
   "outputs": [],
   "source": [
    "answers\treturn\n",
    "[1,2,3,4,5]\t[1]\n",
    "[1,3,2,4,2]\t[1,2,3]"
   ]
  },
  {
   "cell_type": "code",
   "execution_count": 28,
   "metadata": {},
   "outputs": [],
   "source": [
    "l1 = [1, 2, 3, 4, 5]\n",
    "l2 = [2, 1, 2, 3, 2, 4, 2, 5]\n",
    "l3 = [3, 3, 1, 1, 2, 2, 4, 4, 5, 5]\n",
    "nl1 = []\n",
    "nl2 = []\n",
    "nl3 = []"
   ]
  },
  {
   "cell_type": "code",
   "execution_count": 5,
   "metadata": {},
   "outputs": [
    {
     "data": {
      "text/plain": [
       "[1, 2, 3, 4, 5]"
      ]
     },
     "execution_count": 5,
     "metadata": {},
     "output_type": "execute_result"
    }
   ],
   "source": [
    "answer = [1,2,3,4,5]\n",
    "answer"
   ]
  },
  {
   "cell_type": "code",
   "execution_count": 31,
   "metadata": {},
   "outputs": [],
   "source": [
    "for i in range(2000):\n",
    "    nl1 += l1\n",
    "    nl2 += l2\n",
    "    nl3 += l3"
   ]
  },
  {
   "cell_type": "code",
   "execution_count": 10,
   "metadata": {},
   "outputs": [],
   "source": [
    "import collections"
   ]
  },
  {
   "cell_type": "code",
   "execution_count": 32,
   "metadata": {},
   "outputs": [
    {
     "data": {
      "text/plain": [
       "10000"
      ]
     },
     "execution_count": 32,
     "metadata": {},
     "output_type": "execute_result"
    }
   ],
   "source": [
    "len(nl1)"
   ]
  },
  {
   "cell_type": "code",
   "execution_count": 41,
   "metadata": {},
   "outputs": [],
   "source": [
    "sc1 = 0\n",
    "sc2 = 0\n",
    "sc3 = 0\n",
    "for i,st1,st2,st3 in zip(answer,nl1,nl2,nl3):\n",
    "    if i == st1:\n",
    "        sc1 += 1\n",
    "    if i == st2:\n",
    "        sc2 += 1\n",
    "    if i == st3:\n",
    "        sc3 += 1\n",
    "sc = [sc1,sc2,sc3]"
   ]
  },
  {
   "cell_type": "code",
   "execution_count": 44,
   "metadata": {},
   "outputs": [
    {
     "ename": "SyntaxError",
     "evalue": "invalid syntax (<ipython-input-44-ecc2fd5c968f>, line 3)",
     "output_type": "error",
     "traceback": [
      "\u001b[1;36m  File \u001b[1;32m\"<ipython-input-44-ecc2fd5c968f>\"\u001b[1;36m, line \u001b[1;32m3\u001b[0m\n\u001b[1;33m    else sc[0]==sc[1] and\u001b[0m\n\u001b[1;37m          ^\u001b[0m\n\u001b[1;31mSyntaxError\u001b[0m\u001b[1;31m:\u001b[0m invalid syntax\n"
     ]
    }
   ],
   "source": [
    "if sc[0]==sc[1] and sc[1]==sc[2]:\n",
    "    return [1,2,3]\n",
    "elif sc[0]==sc[1] and max(sc) == sc[0]:\n",
    "    return [1,2]\n",
    "elif sc[1]==sc[2] and max(sc) == sc[2]:\n",
    "    return [1,2]\n",
    "elif sc[0]==sc[2] and max(sc) == sc[0]:\n",
    "    return [1,2]\n",
    "else:\n",
    "    return [sc.index(max(sc))+1]\n"
   ]
  },
  {
   "cell_type": "code",
   "execution_count": 45,
   "metadata": {},
   "outputs": [
    {
     "data": {
      "text/plain": [
       "[5, 0, 0]"
      ]
     },
     "execution_count": 45,
     "metadata": {},
     "output_type": "execute_result"
    }
   ],
   "source": [
    "sc"
   ]
  },
  {
   "cell_type": "code",
   "execution_count": 46,
   "metadata": {},
   "outputs": [
    {
     "data": {
      "text/plain": [
       "0"
      ]
     },
     "execution_count": 46,
     "metadata": {},
     "output_type": "execute_result"
    }
   ],
   "source": [
    "sc.index(max(sc))"
   ]
  },
  {
   "cell_type": "code",
   "execution_count": 47,
   "metadata": {},
   "outputs": [
    {
     "data": {
      "text/plain": [
       "[1]"
      ]
     },
     "execution_count": 47,
     "metadata": {},
     "output_type": "execute_result"
    }
   ],
   "source": [
    "[sc.index(max(sc))+1]"
   ]
  },
  {
   "cell_type": "code",
   "execution_count": 48,
   "metadata": {},
   "outputs": [
    {
     "ename": "SyntaxError",
     "evalue": "'return' outside function (<ipython-input-48-8571301eab35>, line 23)",
     "output_type": "error",
     "traceback": [
      "\u001b[1;36m  File \u001b[1;32m\"<ipython-input-48-8571301eab35>\"\u001b[1;36m, line \u001b[1;32m23\u001b[0m\n\u001b[1;33m    return [1,2,3]\u001b[0m\n\u001b[1;37m    ^\u001b[0m\n\u001b[1;31mSyntaxError\u001b[0m\u001b[1;31m:\u001b[0m 'return' outside function\n"
     ]
    }
   ],
   "source": [
    "l1 = [1, 2, 3, 4, 5]\n",
    "l2 = [2, 1, 2, 3, 2, 4, 2, 5]\n",
    "l3 = [3, 3, 1, 1, 2, 2, 4, 4, 5, 5]\n",
    "nl1 = []\n",
    "nl2 = []\n",
    "nl3 = []\n",
    "for i in range(2000):\n",
    "    nl1 += l1\n",
    "    nl2 += l2\n",
    "    nl3 += l3\n",
    "sc1 = 0\n",
    "sc2 = 0\n",
    "sc3 = 0\n",
    "for i,st1,st2,st3 in zip(answer,nl1,nl2,nl3):\n",
    "    if i == st1:\n",
    "        sc1 += 1\n",
    "    if i == st2:\n",
    "        sc2 += 1\n",
    "    if i == st3:\n",
    "        sc3 += 1\n",
    "sc = [sc1,sc2,sc3]\n",
    "if sc[0]==sc[1] and sc[1]==sc[2]:\n",
    "    return [1,2,3]\n",
    "elif sc[0]==sc[1] and max(sc) == sc[0]:\n",
    "    return [1,2]\n",
    "elif sc[1]==sc[2] and max(sc) == sc[2]:\n",
    "    return [1,2]\n",
    "elif sc[0]==sc[2] and max(sc) == sc[0]:\n",
    "    return [1,2]\n",
    "else:\n",
    "    return [sc.index(max(sc))+1]"
   ]
  },
  {
   "cell_type": "code",
   "execution_count": null,
   "metadata": {},
   "outputs": [],
   "source": []
  }
 ],
 "metadata": {
  "kernelspec": {
   "display_name": "Python 3",
   "language": "python",
   "name": "python3"
  },
  "language_info": {
   "codemirror_mode": {
    "name": "ipython",
    "version": 3
   },
   "file_extension": ".py",
   "mimetype": "text/x-python",
   "name": "python",
   "nbconvert_exporter": "python",
   "pygments_lexer": "ipython3",
   "version": "3.7.3"
  }
 },
 "nbformat": 4,
 "nbformat_minor": 2
}

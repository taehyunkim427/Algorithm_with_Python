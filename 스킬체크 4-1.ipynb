{
 "cells": [
  {
   "cell_type": "code",
   "execution_count": 1,
   "metadata": {
    "collapsed": true
   },
   "outputs": [
    {
     "ename": "SyntaxError",
     "evalue": "invalid syntax (<ipython-input-1-f1d673ed718d>, line 1)",
     "output_type": "error",
     "traceback": [
      "\u001b[1;36m  File \u001b[1;32m\"<ipython-input-1-f1d673ed718d>\"\u001b[1;36m, line \u001b[1;32m1\u001b[0m\n\u001b[1;33m    strs\tt\tresult\u001b[0m\n\u001b[1;37m        \t^\u001b[0m\n\u001b[1;31mSyntaxError\u001b[0m\u001b[1;31m:\u001b[0m invalid syntax\n"
     ]
    }
   ],
   "source": [
    "strs\tt\tresult\n",
    "[ba,na,n,a]\tbanana\t3\n",
    "[app,ap,p,l,e,ple,pp]\tapple\t2\n",
    "[ba,an,nan,ban,n]\tbanana\t-1"
   ]
  },
  {
   "cell_type": "code",
   "execution_count": 11,
   "metadata": {},
   "outputs": [],
   "source": [
    "strs = [\"ba\",\"na\",\"n\",\"a\"]\n",
    "t = \"banana\""
   ]
  },
  {
   "cell_type": "code",
   "execution_count": 32,
   "metadata": {},
   "outputs": [],
   "source": [
    "strs = [\"app\",\"ap\",\"p\",\"l\",\"e\",\"ple\",\"pp\"]\n",
    "t = \"apple\""
   ]
  },
  {
   "cell_type": "code",
   "execution_count": 33,
   "metadata": {},
   "outputs": [
    {
     "data": {
      "text/plain": [
       "['app', 'ap', 'p', 'l', 'e', 'ple', 'pp']"
      ]
     },
     "execution_count": 33,
     "metadata": {},
     "output_type": "execute_result"
    }
   ],
   "source": [
    "strs"
   ]
  },
  {
   "cell_type": "code",
   "execution_count": 34,
   "metadata": {},
   "outputs": [
    {
     "data": {
      "text/plain": [
       "'apple'"
      ]
     },
     "execution_count": 34,
     "metadata": {},
     "output_type": "execute_result"
    }
   ],
   "source": [
    "t"
   ]
  },
  {
   "cell_type": "code",
   "execution_count": 35,
   "metadata": {},
   "outputs": [
    {
     "data": {
      "text/plain": [
       "'app'"
      ]
     },
     "execution_count": 35,
     "metadata": {},
     "output_type": "execute_result"
    }
   ],
   "source": [
    "t[:len(strs[0])]"
   ]
  },
  {
   "cell_type": "code",
   "execution_count": 36,
   "metadata": {},
   "outputs": [
    {
     "data": {
      "text/plain": [
       "[['banana', 0]]"
      ]
     },
     "execution_count": 36,
     "metadata": {},
     "output_type": "execute_result"
    }
   ],
   "source": [
    "l"
   ]
  },
  {
   "cell_type": "code",
   "execution_count": 95,
   "metadata": {},
   "outputs": [
    {
     "name": "stdout",
     "output_type": "stream",
     "text": [
      "['apple', 0]\n",
      "['ple', 1]\n",
      "['le', 1]\n",
      "['le', 2]\n",
      "['', 2]\n",
      "['e', 2]\n"
     ]
    },
    {
     "data": {
      "text/plain": [
       "2"
      ]
     },
     "execution_count": 95,
     "metadata": {},
     "output_type": "execute_result"
    }
   ],
   "source": [
    "import collections\n",
    "\n",
    "dq = collections.deque()\n",
    "dq.append([t,0])\n",
    "ans = 20001\n",
    "strs.sort()\n",
    "\n",
    "while dq:\n",
    "    now = dq.popleft()\n",
    "    print(now)\n",
    "    if now[1] >= ans:\n",
    "        break\n",
    "    if now[0]==\"\":\n",
    "        ans = min(ans, now[1])\n",
    "    else:\n",
    "        for s in strs:\n",
    "            if s[0] < now[0][0]:\n",
    "                continue\n",
    "            elif s[0] > now[0][0]:\n",
    "                break\n",
    "            if len(now[0]) >= len(s):\n",
    "                if s == now[0][:len(s)]:\n",
    "                    dq.append([now[0][len(s):],now[1]+1])\n",
    "ans"
   ]
  },
  {
   "cell_type": "code",
   "execution_count": 110,
   "metadata": {},
   "outputs": [],
   "source": [
    "t\n",
    "l = []\n",
    "l = [len(t)+1]*len(t)"
   ]
  },
  {
   "cell_type": "code",
   "execution_count": 113,
   "metadata": {},
   "outputs": [],
   "source": [
    "for s in strs:\n",
    "    if len(now[0]) >= len(s):\n",
    "        if s == now[0][:len(s)]:\n",
    "            dq.append([now[0][len(s):],now[1]+1])"
   ]
  },
  {
   "cell_type": "code",
   "execution_count": 114,
   "metadata": {},
   "outputs": [
    {
     "data": {
      "text/plain": [
       "[6, 6, 6, 6, 6]"
      ]
     },
     "execution_count": 114,
     "metadata": {},
     "output_type": "execute_result"
    }
   ],
   "source": [
    "l"
   ]
  },
  {
   "cell_type": "code",
   "execution_count": null,
   "metadata": {},
   "outputs": [],
   "source": []
  }
 ],
 "metadata": {
  "kernelspec": {
   "display_name": "Python 3",
   "language": "python",
   "name": "python3"
  },
  "language_info": {
   "codemirror_mode": {
    "name": "ipython",
    "version": 3
   },
   "file_extension": ".py",
   "mimetype": "text/x-python",
   "name": "python",
   "nbconvert_exporter": "python",
   "pygments_lexer": "ipython3",
   "version": "3.7.3"
  }
 },
 "nbformat": 4,
 "nbformat_minor": 2
}

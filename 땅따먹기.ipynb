{
 "cells": [
  {
   "cell_type": "code",
   "execution_count": 24,
   "metadata": {},
   "outputs": [],
   "source": [
    "land = [[1,2,3,5],[5,6,7,8],[4,3,2,1]]"
   ]
  },
  {
   "cell_type": "code",
   "execution_count": 25,
   "metadata": {},
   "outputs": [
    {
     "data": {
      "text/plain": [
       "[[1, 2, 3, 5], [5, 6, 7, 8], [4, 3, 2, 1]]"
      ]
     },
     "execution_count": 25,
     "metadata": {},
     "output_type": "execute_result"
    }
   ],
   "source": [
    "from copy import deepcopy\n",
    "l = deepcopy(land)\n",
    "l"
   ]
  },
  {
   "cell_type": "code",
   "execution_count": 29,
   "metadata": {},
   "outputs": [
    {
     "data": {
      "text/plain": [
       "16"
      ]
     },
     "execution_count": 29,
     "metadata": {},
     "output_type": "execute_result"
    }
   ],
   "source": [
    "for i, now in enumerate(l):\n",
    "    if i >= len(l) - 1:\n",
    "        break\n",
    "    t = [0] * 4\n",
    "    t[0] = max(now[1], now[2], now[3]) + land[i+1][0]\n",
    "    t[1] = max(now[0], now[2], now[3]) + land[i+1][1]\n",
    "    t[2] = max(now[0], now[1], now[3]) + land[i+1][2]\n",
    "    t[3] = max(now[0], now[1], now[2]) + land[i+1][3]\n",
    "    l[i+1] = deepcopy(t)\n",
    "ans = max(l[len(l)-1])\n",
    "ans"
   ]
  },
  {
   "cell_type": "code",
   "execution_count": null,
   "metadata": {},
   "outputs": [],
   "source": []
  }
 ],
 "metadata": {
  "kernelspec": {
   "display_name": "Python 3",
   "language": "python",
   "name": "python3"
  },
  "language_info": {
   "codemirror_mode": {
    "name": "ipython",
    "version": 3
   },
   "file_extension": ".py",
   "mimetype": "text/x-python",
   "name": "python",
   "nbconvert_exporter": "python",
   "pygments_lexer": "ipython3",
   "version": "3.7.3"
  }
 },
 "nbformat": 4,
 "nbformat_minor": 2
}
